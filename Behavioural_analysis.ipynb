{
 "cells": [
  {
   "cell_type": "code",
   "execution_count": 1,
   "id": "5c17c370-123d-4587-8770-14a7375ced62",
   "metadata": {},
   "outputs": [],
   "source": [
    "import os\n",
    "import numpy as np\n",
    "import pandas\n",
    "import seaborn as sns\n",
    "import matplotlib.pyplot as plt"
   ]
  },
  {
   "cell_type": "code",
   "execution_count": 2,
   "id": "9161dada-df83-41fc-bfb0-2f7a6a2bd7b5",
   "metadata": {},
   "outputs": [],
   "source": [
    "#paths\n",
    "data_path = './data/behavioural_data'\n",
    "figures_path = './figures'"
   ]
  },
  {
   "cell_type": "code",
   "execution_count": 8,
   "id": "f5d8ae9c-669e-4504-a5b0-ae3d6ec7415b",
   "metadata": {},
   "outputs": [
    {
     "name": "stdout",
     "output_type": "stream",
     "text": [
      "sub-01_ses-001_20240322-093347_task-mutemusic_run-1_events-001.tsv sub-01_ses-001_20240322-093347_task-mutemusic_run-1_events.tsv\n",
      "sub-01_ses-001_20240322-093347_task-mutemusic_run-2_events-001.tsv sub-01_ses-001_20240322-093347_task-mutemusic_run-2_events.tsv\n",
      "sub-01_ses-001_20240322-093347_task-mutemusic_run-3_events-001.tsv sub-01_ses-001_20240322-093347_task-mutemusic_run-3_events.tsv\n",
      "sub-01_ses-002_20240326-104509_task-mutemusic_run-4_events-001.tsv sub-01_ses-002_20240326-104509_task-mutemusic_run-4_events.tsv\n",
      "sub-01_ses-002_20240326-104509_task-mutemusic_run-5_events-001.tsv sub-01_ses-002_20240326-104509_task-mutemusic_run-5_events.tsv\n",
      "sub-01_ses-002_20240326-104509_task-mutemusic_run-6_events-001.tsv sub-01_ses-002_20240326-104509_task-mutemusic_run-6_events.tsv\n",
      "sub-01_ses-003_20240402-104826_task-mutemusic_run-7_events-001.tsv sub-01_ses-003_20240402-104826_task-mutemusic_run-7_events.tsv\n",
      "sub-01_ses-003_20240402-104826_task-mutemusic_run-8_events-001.tsv sub-01_ses-003_20240402-104826_task-mutemusic_run-8_events.tsv\n",
      "sub-01_ses-003_20240402-104826_task-mutemusic_run-9_events-001.tsv sub-01_ses-003_20240402-104826_task-mutemusic_run-9_events.tsv\n",
      "sub-01_ses-004_20240405-092522_task-mutemusic_run-10_events-001.tsv sub-01_ses-004_20240405-092522_task-mutemusic_run-10_events.tsv\n",
      "sub-01_ses-004_20240405-092522_task-mutemusic_run-11_events-001.tsv sub-01_ses-004_20240405-092522_task-mutemusic_run-11_events.tsv\n",
      "sub-01_ses-004_20240405-092522_task-mutemusic_run-12_events-001.tsv sub-01_ses-004_20240405-092522_task-mutemusic_run-12_events.tsv\n",
      "sub-01_ses-005_20240409-104129_task-mutemusic_run-13_events-001.tsv sub-01_ses-005_20240409-104129_task-mutemusic_run-13_events.tsv\n",
      "sub-01_ses-005_20240409-104129_task-mutemusic_run-14_events-001.tsv sub-01_ses-005_20240409-104129_task-mutemusic_run-14_events.tsv\n",
      "sub-01_ses-005_20240409-104129_task-mutemusic_run-15_events-001.tsv sub-01_ses-005_20240409-104129_task-mutemusic_run-15_events.tsv\n",
      "sub-01_ses-006_20240412-092409_task-mutemusic_run-16_events-001.tsv sub-01_ses-006_20240412-092409_task-mutemusic_run-16_events.tsv\n",
      "sub-01_ses-006_20240412-092409_task-mutemusic_run-17_events-001.tsv sub-01_ses-006_20240412-092409_task-mutemusic_run-17_events.tsv\n",
      "sub-01_ses-006_20240412-092409_task-mutemusic_run-18_events-001.tsv sub-01_ses-006_20240412-092409_task-mutemusic_run-18_events.tsv\n",
      "sub-02_ses-001_20240229-152012_task-mutemusic_run-0_events-001.tsv sub-02_ses-001_20240229-152012_task-mutemusic_run-0_events.tsv\n",
      "sub-02_ses-001_20240229-154503_task-mutemusic_run-1_events-001.tsv sub-02_ses-001_20240229-154503_task-mutemusic_run-1_events.tsv\n",
      "sub-02_ses-001_20240229-154503_task-mutemusic_run-2_events-001.tsv sub-02_ses-001_20240229-154503_task-mutemusic_run-2_events.tsv\n",
      "sub-02_ses-002_20240307-151927_task-mutemusic_run-3_events-001.tsv sub-02_ses-002_20240307-151927_task-mutemusic_run-3_events.tsv\n",
      "sub-02_ses-002_20240307-154108_task-mutemusic_run-10_events-001.tsv sub-02_ses-002_20240307-154108_task-mutemusic_run-10_events.tsv\n",
      "sub-02_ses-002_20240307-154108_task-mutemusic_run-6_events-001.tsv sub-02_ses-002_20240307-154108_task-mutemusic_run-6_events.tsv\n",
      "sub-02_ses-002_20240307-154108_task-mutemusic_run-7_events-001.tsv sub-02_ses-002_20240307-154108_task-mutemusic_run-7_events.tsv\n",
      "sub-02_ses-002_20240307-154108_task-mutemusic_run-8_events-001.tsv sub-02_ses-002_20240307-154108_task-mutemusic_run-8_events.tsv\n",
      "sub-02_ses-002_20240307-154108_task-mutemusic_run-9_events-001.tsv sub-02_ses-002_20240307-154108_task-mutemusic_run-9_events.tsv\n",
      "sub-02_ses-003_20240321-152148_task-mutemusic_run-10_events-001.tsv sub-02_ses-003_20240321-152148_task-mutemusic_run-10_events.tsv\n",
      "sub-02_ses-003_20240321-152148_task-mutemusic_run-11_events-001.tsv sub-02_ses-003_20240321-152148_task-mutemusic_run-11_events.tsv\n",
      "sub-02_ses-003_20240321-152148_task-mutemusic_run-12_events-001.tsv sub-02_ses-003_20240321-152148_task-mutemusic_run-12_events.tsv\n",
      "sub-02_ses-004_20240328-151849_task-mutemusic_run-13_events-001.tsv sub-02_ses-004_20240328-151849_task-mutemusic_run-13_events.tsv\n",
      "sub-02_ses-004_20240328-151849_task-mutemusic_run-14_events-001.tsv sub-02_ses-004_20240328-151849_task-mutemusic_run-14_events.tsv\n",
      "sub-02_ses-004_20240328-151849_task-mutemusic_run-15_events-001.tsv sub-02_ses-004_20240328-151849_task-mutemusic_run-15_events.tsv\n",
      "sub-02_ses-005_20240411-151955_task-mutemusic_run-16_events-001.tsv sub-02_ses-005_20240411-151955_task-mutemusic_run-16_events.tsv\n",
      "sub-02_ses-005_20240411-151955_task-mutemusic_run-17_events-001.tsv sub-02_ses-005_20240411-151955_task-mutemusic_run-17_events.tsv\n",
      "sub-02_ses-005_20240411-151955_task-mutemusic_run-18_events-001.tsv sub-02_ses-005_20240411-151955_task-mutemusic_run-18_events.tsv\n",
      "sub-03_ses-001_20231129-131810_task-mutemusic_run-1_events-001.tsv sub-03_ses-001_20231129-131810_task-mutemusic_run-1_events.tsv\n",
      "sub-03_ses-001_20231129-131810_task-mutemusic_run-2_events-001.tsv sub-03_ses-001_20231129-131810_task-mutemusic_run-2_events.tsv\n",
      "sub-03_ses-001_20231129-131810_task-mutemusic_run-3_events-001.tsv sub-03_ses-001_20231129-131810_task-mutemusic_run-3_events.tsv\n",
      "sub-03_ses-001_20231129-131810_task-mutemusic_run-4_events-001.tsv sub-03_ses-001_20231129-131810_task-mutemusic_run-4_events.tsv\n",
      "sub-03_ses-001_20231129-131810_task-mutemusic_run-5_events-001.tsv sub-03_ses-001_20231129-131810_task-mutemusic_run-5_events.tsv\n",
      "sub-03_ses-001_20231129-131810_task-mutemusic_run-6_events-001.tsv sub-03_ses-001_20231129-131810_task-mutemusic_run-6_events.tsv\n",
      "sub-03_ses-002_20231130-134205_task-mutemusic_run-1_events-001.tsv sub-03_ses-002_20231130-134205_task-mutemusic_run-1_events.tsv\n",
      "sub-03_ses-002_20231130-134205_task-mutemusic_run-2_events-001.tsv sub-03_ses-002_20231130-134205_task-mutemusic_run-2_events.tsv\n",
      "sub-03_ses-002_20231130-141341_task-mutemusic_run-3_events-001.tsv sub-03_ses-002_20231130-141341_task-mutemusic_run-3_events.tsv\n",
      "sub-03_ses-002_20231130-141341_task-mutemusic_run-4_events-001.tsv sub-03_ses-002_20231130-141341_task-mutemusic_run-4_events.tsv\n",
      "sub-03_ses-002_20231130-141341_task-mutemusic_run-5_events-001.tsv sub-03_ses-002_20231130-141341_task-mutemusic_run-5_events.tsv\n",
      "sub-03_ses-002_20231130-141341_task-mutemusic_run-6_events-001.tsv sub-03_ses-002_20231130-141341_task-mutemusic_run-6_events.tsv\n",
      "sub-03_ses-003_20231202-122055_task-mutemusic_run-1_events-001.tsv sub-03_ses-003_20231202-122055_task-mutemusic_run-1_events.tsv\n",
      "sub-03_ses-003_20231202-122055_task-mutemusic_run-2_events-001.tsv sub-03_ses-003_20231202-122055_task-mutemusic_run-2_events.tsv\n",
      "sub-03_ses-003_20231202-122055_task-mutemusic_run-3_events-001.tsv sub-03_ses-003_20231202-122055_task-mutemusic_run-3_events.tsv\n",
      "sub-03_ses-003_20231202-122055_task-mutemusic_run-4_events-001.tsv sub-03_ses-003_20231202-122055_task-mutemusic_run-4_events.tsv\n",
      "sub-03_ses-003_20231202-122055_task-mutemusic_run-5_events-001.tsv sub-03_ses-003_20231202-122055_task-mutemusic_run-5_events.tsv\n",
      "sub-03_ses-003_20231202-122055_task-mutemusic_run-6_events-001.tsv sub-03_ses-003_20231202-122055_task-mutemusic_run-6_events.tsv\n",
      "sub-06_ses-001_20231124-161120_task-mutemusic_run-1_events-001.tsv sub-06_ses-001_20231124-161120_task-mutemusic_run-1_events.tsv\n",
      "sub-06_ses-001_20231124-161120_task-mutemusic_run-2_events-001.tsv sub-06_ses-001_20231124-161120_task-mutemusic_run-2_events.tsv\n",
      "sub-06_ses-001_20231124-163722_task-mutemusic_run-3_events-001.tsv sub-06_ses-001_20231124-163722_task-mutemusic_run-3_events.tsv\n",
      "sub-06_ses-002_20231201-154236_task-mutemusic_run-1_events-001.tsv sub-06_ses-002_20231201-154236_task-mutemusic_run-1_events.tsv\n",
      "sub-06_ses-002_20231201-154236_task-mutemusic_run-2_events-001.tsv sub-06_ses-002_20231201-154236_task-mutemusic_run-2_events.tsv\n",
      "sub-06_ses-002_20231201-154236_task-mutemusic_run-3_events-001.tsv sub-06_ses-002_20231201-154236_task-mutemusic_run-3_events.tsv\n",
      "sub-06_ses-002_20231201-154236_task-mutemusic_run-4_events-001.tsv sub-06_ses-002_20231201-154236_task-mutemusic_run-4_events.tsv\n",
      "sub-06_ses-002_20231201-163107_task-mutemusic_run-5_events-001.tsv sub-06_ses-002_20231201-163107_task-mutemusic_run-5_events.tsv\n",
      "sub-06_ses-002_20231201-163107_task-mutemusic_run-6_events-001.tsv sub-06_ses-002_20231201-163107_task-mutemusic_run-6_events.tsv\n",
      "sub-06_ses-003_20231202-145434_task-mutemusic_run-4_events-001.tsv sub-06_ses-003_20231202-145434_task-mutemusic_run-4_events.tsv\n",
      "sub-06_ses-003_20231202-145434_task-mutemusic_run-5_events-001.tsv sub-06_ses-003_20231202-145434_task-mutemusic_run-5_events.tsv\n",
      "sub-06_ses-003_20231202-145434_task-mutemusic_run-6_events-001.tsv sub-06_ses-003_20231202-145434_task-mutemusic_run-6_events.tsv\n",
      "sub-06_ses-004_20231208-154037_task-mutemusic_run-1_events-001.tsv sub-06_ses-004_20231208-154037_task-mutemusic_run-1_events.tsv\n",
      "sub-06_ses-004_20231208-154037_task-mutemusic_run-2_events-001.tsv sub-06_ses-004_20231208-154037_task-mutemusic_run-2_events.tsv\n",
      "sub-06_ses-004_20231208-154037_task-mutemusic_run-3_events-001.tsv sub-06_ses-004_20231208-154037_task-mutemusic_run-3_events.tsv\n",
      "sub-06_ses-004_20231208-163423_task-mutemusic_run-4_events-001.tsv sub-06_ses-004_20231208-163423_task-mutemusic_run-4_events.tsv\n",
      "sub-06_ses-004_20231208-164702_task-mutemusic_run-5_events-001.tsv sub-06_ses-004_20231208-164702_task-mutemusic_run-5_events.tsv\n",
      "sub-06_ses-004_20231208-164702_task-mutemusic_run-6_events-001.tsv sub-06_ses-004_20231208-164702_task-mutemusic_run-6_events.tsv\n"
     ]
    }
   ],
   "source": [
    "files = np.sort(np.array(os.listdir(data_path)))\n",
    "files = [file for file in files if 'order' not in file and '.ipynb' not in file]\n",
    "paired_files = [(files[i], files[i+1]) for i in range(0, len(files)-1, 2)]\n",
    "\n",
    "data_df = pandas.DataFrame({})\n",
    "\n",
    "for imagery_score, playlist_timestamps in paired_files:\n",
    "    #supplemental run data\n",
    "    print(imagery_score, playlist_timestamps)\n",
    "    subject = imagery_score[:6]\n",
    "    run_i = imagery_score.find('run-')+len('run-')\n",
    "    run = imagery_score[run_i:run_i+2]\n",
    "    run = int(run[0]) if run[-1] == '_' else int(run)\n",
    "    session = int(imagery_score[imagery_score.find('ses-00')+len('ses-00')])\n",
    "    \n",
    "    subject_runs_order = 'S{}_Playlist_order.tsv'.format(subject[1:])\n",
    "    order = pandas.read_csv(os.path.join(data_path, subject_runs_order), sep=' ')\n",
    "\n",
    "        \n",
    "    i = order.loc[(order['run_events']==run) & (order['session']==session)].index\n",
    "    playlist = int(order.playlist.iloc[i].values[0])\n",
    "    repetition = int(order.repetition.iloc[i].values[0])\n",
    "    \n",
    "    #extract data from tsv\n",
    "    score_path = os.path.join(data_path, imagery_score)\n",
    "    score_df = pandas.read_csv(score_path, sep='\\t')\n",
    "    timestamps_path = os.path.join(data_path, playlist_timestamps)\n",
    "    timestamps_df = pandas.read_csv(timestamps_path, sep='\\t')\n",
    "    \n",
    "    #manage df\n",
    "    score_df.drop('question', axis='columns', inplace=True)\n",
    "    timestamps_df.drop('path', axis='columns', inplace=True)\n",
    "    run_df = pandas.concat([timestamps_df, score_df], axis='columns', join='outer')\n",
    "    run_df.drop('track', axis='columns', inplace=True) \n",
    "    run_df['sub'] = subject\n",
    "    run_df['session'] = session\n",
    "    run_df['run'] = int(order.run.iloc[i].values[0])\n",
    "    run_df['run_event'] = run\n",
    "    run_df['playlist'] = playlist\n",
    "    run_df['repetition'] = repetition\n",
    "\n",
    "    data_df = pandas.concat([data_df, run_df], axis='rows', join='outer', ignore_index=True)"
   ]
  },
  {
   "cell_type": "code",
   "execution_count": 11,
   "id": "f4256c2a-ea94-479a-9701-5d93e8666e02",
   "metadata": {},
   "outputs": [
    {
     "name": "stdout",
     "output_type": "stream",
     "text": [
      "    Groupe    category                                 title  \\\n",
      "541      F  Orchestral  The_Office_(Main_Theme)_silenced.wav   \n",
      "545      F  Orchestral  The_Office_(Main_Theme)_silenced.wav   \n",
      "\n",
      "     silence_duration  total_duration       onset  value confirmation     sub  \\\n",
      "541                16            62.0   76.082241      4          yes  sub-06   \n",
      "545                16            62.0  331.742244      4          yes  sub-06   \n",
      "\n",
      "     session  run  run_event  playlist  repetition  \n",
      "541        1    1          1         1           1  \n",
      "545        1    1          1         1           1  \n"
     ]
    }
   ],
   "source": [
    "#sub-06 had a familiar track repeated 2 times in the first playlist (11 tracks instead of 10)\n",
    "print(data_df.loc[(data_df['sub']=='sub-06')&\n",
    "                  (data_df['session']==1)&\n",
    "                  (data_df['title']=='The_Office_(Main_Theme)_silenced.wav')])\n",
    "data_df.drop(545, inplace=True)\n",
    "data_df.to_csv('./data/sub_session_data.tsv', sep=\"\\t\")"
   ]
  },
  {
   "cell_type": "code",
   "execution_count": null,
   "id": "d795bcd3-8422-42bf-a65b-a5ef46d68476",
   "metadata": {},
   "outputs": [],
   "source": [
    "from scipy.stats import wilcoxon, ttest_ind\n",
    "\n",
    "for sub in ['sub-01', 'sub-02', 'sub-03', 'sub-06']:\n",
    "    unfamiliar = data_df['value'].loc[(data_df['Groupe']=='U')&\n",
    "                        (data_df['sub']==sub)].values\n",
    "    familiar = data_df['value'].loc[(data_df['Groupe']=='F')&\n",
    "                        (data_df['sub']==sub)].values\n",
    "    stat = ttest_ind(unfamiliar, familiar)\n",
    "    print(sub, stat)\n",
    "    print('familiar', np.median(familiar), np.mean(familiar))\n",
    "    print('unfamiliar', np.median(unfamiliar), np.mean(unfamiliar))\n",
    "            "
   ]
  },
  {
   "cell_type": "code",
   "execution_count": null,
   "id": "8630fce3-e17c-4ec5-bf20-ad0224e0fa19",
   "metadata": {},
   "outputs": [],
   "source": [
    "for sub in ['sub-01', 'sub-02', 'sub-03', 'sub-06']:\n",
    "    for Groupe in ['U', 'F']:\n",
    "        for paired_rep in [(1,2), (2,3), (1,3)]:\n",
    "    \n",
    "            rep1 = data_df.loc[(data_df['Groupe']==Groupe)&\n",
    "                                    (data_df['sub']==sub)&\n",
    "                                    (data_df['repetition']==paired_rep[0])]\n",
    "            sorted_rep1 = rep1.sort_values(by='title')\n",
    "            val1 = sorted_rep1['value'].values\n",
    "            \n",
    "            rep2 = data_df.loc[(data_df['Groupe']==Groupe)&\n",
    "                                    (data_df['sub']==sub)&\n",
    "                                    (data_df['repetition']==paired_rep[1])]\n",
    "            sorted_rep2 = rep2.sort_values(by='title')\n",
    "            val2 = sorted_rep2['value'].values\n",
    "\n",
    "            stat, p_value = wilcoxon(val1, val2)\n",
    "            print(sub, Groupe, paired_rep, p_value, p_value<0.05)"
   ]
  },
  {
   "cell_type": "code",
   "execution_count": null,
   "id": "dfa6448c-eb71-4dba-8a06-7b8145aba03b",
   "metadata": {},
   "outputs": [],
   "source": [
    "sns.boxplot(data=data_df, x=\"sub\", y=\"value\", hue=\"Groupe\", notch=True)\n",
    "sns.stripplot(data=data_df, x=\"sub\", y=\"value\", hue=\"Groupe\", dodge=True, jitter=0.3, edgecolor='k', linewidth=0.2)\n",
    "plt.legend(loc='center right', bbox_to_anchor=(1.14, 0.5))\n",
    "plt.yticks(range(5))\n",
    "\n",
    "plt.savefig(os.path.join(figures_path, 'ImaginationScore_Groupe'))"
   ]
  },
  {
   "cell_type": "code",
   "execution_count": null,
   "id": "ad9a2cb6-05df-4426-a2a6-9d639062b846",
   "metadata": {},
   "outputs": [],
   "source": [
    "sns.catplot(data=data_df, x=\"sub\", y=\"value\", hue=\"repetition\", col=\"Groupe\", kind='box')\n",
    "plt.yticks(range(5))\n",
    "plt.savefig(os.path.join(figures_path, 'ImaginationScore_Groupe_Repetition'))"
   ]
  },
  {
   "cell_type": "code",
   "execution_count": null,
   "id": "2527e0e8-508f-4983-9a51-0a3b192c1d61",
   "metadata": {},
   "outputs": [],
   "source": [
    "sns.catplot(data=data_df, x=\"sub\", y=\"value\", hue=\"category\", col=\"Groupe\", kind='box')\n",
    "plt.yticks(range(5))\n",
    "plt.savefig(os.path.join(figures_path, 'ImaginationScore_Groupe_Category'))"
   ]
  },
  {
   "cell_type": "code",
   "execution_count": null,
   "id": "c73e53b1-4b3c-4f3c-87d5-28b03884bd5b",
   "metadata": {},
   "outputs": [],
   "source": [
    "print(data_df.loc[data_df['sub']=='sub-01'])"
   ]
  }
 ],
 "metadata": {
  "kernelspec": {
   "display_name": "Python 3 (ipykernel)",
   "language": "python",
   "name": "python3"
  },
  "language_info": {
   "codemirror_mode": {
    "name": "ipython",
    "version": 3
   },
   "file_extension": ".py",
   "mimetype": "text/x-python",
   "name": "python",
   "nbconvert_exporter": "python",
   "pygments_lexer": "ipython3",
   "version": "3.10.12"
  }
 },
 "nbformat": 4,
 "nbformat_minor": 5
}
