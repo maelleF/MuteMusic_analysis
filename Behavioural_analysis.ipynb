{
 "cells": [
  {
   "cell_type": "code",
   "execution_count": 1,
   "id": "5c17c370-123d-4587-8770-14a7375ced62",
   "metadata": {},
   "outputs": [],
   "source": [
    "import os\n",
    "import numpy as np\n",
    "import pandas\n",
    "import seaborn as sns\n",
    "import matplotlib.pyplot as plt"
   ]
  },
  {
   "cell_type": "code",
   "execution_count": 2,
   "id": "9161dada-df83-41fc-bfb0-2f7a6a2bd7b5",
   "metadata": {},
   "outputs": [],
   "source": [
    "#paths\n",
    "data_path = './data'\n",
    "figures_path = './figures'"
   ]
  },
  {
   "cell_type": "code",
   "execution_count": 3,
   "id": "f5d8ae9c-669e-4504-a5b0-ae3d6ec7415b",
   "metadata": {},
   "outputs": [],
   "source": [
    "files = np.sort(np.array(os.listdir(data_path)))\n",
    "files = [file for file in files if 'order' not in file]\n",
    "paired_files = [(files[i], files[i+1]) for i in range(0, len(files)-1, 2)]\n",
    "\n",
    "data_df = pandas.DataFrame({})\n",
    "\n",
    "for imagery_score, playlist_timestamps in paired_files:\n",
    "    #supplemental run data \n",
    "    subject = imagery_score[:6]\n",
    "    run_i = imagery_score.find('run-')+len('run-')\n",
    "    run = imagery_score[run_i:run_i+2]\n",
    "    run = int(run[0]) if run[-1] == '_' else int(run)\n",
    "    session = int(imagery_score[imagery_score.find('ses-00')+len('ses-00')])\n",
    "    \n",
    "    subject_runs_order = 'S{}_Playlist_order.tsv'.format(subject[1:])\n",
    "    order = pandas.read_csv(os.path.join(data_path, subject_runs_order), sep=' ')\n",
    "\n",
    "        \n",
    "    i = order.loc[(order['run']==run) & (order['session']==session)].index\n",
    "    playlist = int(order.playlist.iloc[i].values[0])\n",
    "    repetition = int(order.repetition.iloc[i].values[0])\n",
    "    \n",
    "    #extract data from tsv\n",
    "    score_path = os.path.join(data_path, imagery_score)\n",
    "    score_df = pandas.read_csv(score_path, sep='\\t')\n",
    "    timestamps_path = os.path.join(data_path, playlist_timestamps)\n",
    "    timestamps_df = pandas.read_csv(timestamps_path, sep='\\t')\n",
    "    \n",
    "    #manage df\n",
    "    score_df.drop('question', axis='columns', inplace=True)\n",
    "    timestamps_df.drop('path', axis='columns', inplace=True)\n",
    "    run_df = pandas.concat([timestamps_df, score_df], axis='columns', join='outer')\n",
    "    run_df.drop('track', axis='columns', inplace=True) \n",
    "    run_df['sub'] = subject\n",
    "    run_df['session'] = session\n",
    "    run_df['run'] = run\n",
    "    run_df['playlist'] = playlist\n",
    "    run_df['repetition'] = repetition\n",
    "\n",
    "    data_df = pandas.concat([data_df, run_df], axis='rows', join='outer', ignore_index=True)\n",
    "    data_df.to_csv('sub_session_data.tsv', sep=\"\\t\")"
   ]
  },
  {
   "cell_type": "code",
   "execution_count": null,
   "id": "dfa6448c-eb71-4dba-8a06-7b8145aba03b",
   "metadata": {},
   "outputs": [],
   "source": [
    "sns.boxplot(data=data_df, x=\"sub\", y=\"value\", hue=\"Groupe\", notch=True)\n",
    "sns.stripplot(data=data_df, x=\"sub\", y=\"value\", hue=\"Groupe\", dodge=True, jitter=0.3, edgecolor='k', linewidth=0.2)\n",
    "plt.legend(loc='center right', bbox_to_anchor=(1.15, 0.5))\n",
    "plt.yticks(range(5))\n",
    "\n",
    "plt.savefig(os.path.join(figures_path, 'ImaginationScore_Groupe'))"
   ]
  },
  {
   "cell_type": "code",
   "execution_count": null,
   "id": "ad9a2cb6-05df-4426-a2a6-9d639062b846",
   "metadata": {},
   "outputs": [],
   "source": [
    "sns.catplot(data=data_df, x=\"sub\", y=\"value\", hue=\"repetition\", col=\"Groupe\", kind='box')\n",
    "plt.yticks(range(5))\n",
    "plt.savefig(os.path.join(figures_path, 'ImaginationScore_Groupe_Repetition'))"
   ]
  },
  {
   "cell_type": "code",
   "execution_count": null,
   "id": "2527e0e8-508f-4983-9a51-0a3b192c1d61",
   "metadata": {},
   "outputs": [],
   "source": [
    "sns.catplot(data=data_df, x=\"sub\", y=\"value\", hue=\"category\", col=\"Groupe\", kind='box')\n",
    "plt.yticks(range(5))\n",
    "plt.savefig(os.path.join(figures_path, 'ImaginationScore_Groupe_Category'))"
   ]
  },
  {
   "cell_type": "code",
   "execution_count": null,
   "id": "c73e53b1-4b3c-4f3c-87d5-28b03884bd5b",
   "metadata": {},
   "outputs": [],
   "source": [
    "print(data_df)"
   ]
  }
 ],
 "metadata": {
  "kernelspec": {
   "display_name": "Python 3 (ipykernel)",
   "language": "python",
   "name": "python3"
  },
  "language_info": {
   "codemirror_mode": {
    "name": "ipython",
    "version": 3
   },
   "file_extension": ".py",
   "mimetype": "text/x-python",
   "name": "python",
   "nbconvert_exporter": "python",
   "pygments_lexer": "ipython3",
   "version": "3.10.12"
  }
 },
 "nbformat": 4,
 "nbformat_minor": 5
}
