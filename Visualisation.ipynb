{
 "cells": [
  {
   "cell_type": "code",
   "execution_count": null,
   "id": "ad01f824-6c75-45f2-840c-06e410bf6a8a",
   "metadata": {},
   "outputs": [],
   "source": [
    "import os, numpy, torch\n",
    "\n",
    "from matplotlib import pyplot as plt\n",
    "from matplotlib import colors, colormaps\n",
    "#brain visualization import\n",
    "from nilearn import regions, datasets, surface, plotting, image, maskers\n",
    "from nilearn.plotting import plot_roi, plot_stat_map"
   ]
  },
  {
   "cell_type": "code",
   "execution_count": null,
   "id": "71cdd460-4bd4-4b91-bcfe-2e6bbcd59cea",
   "metadata": {},
   "outputs": [],
   "source": [
    "MIST_path = '/home/maellef/DataBase/fMRI_parcellations/MIST_parcellation/Parcellations/MIST_ROI.nii.gz'\n",
    "voxel_mask = '/home/maellef/git/cNeuromod_encoding_2020/parcellation/STG_middle.nii.gz'\n",
    "dir_path = \"/home/maellef/Results/Phantom_general\""
   ]
  },
  {
   "cell_type": "code",
   "execution_count": null,
   "id": "6c5103fd-5578-4efe-878d-f6e489e7b536",
   "metadata": {},
   "outputs": [],
   "source": [
    "def voxels_nii(voxel_data, voxel_mask, t_r=1.49):\n",
    "#from voxels to nii\n",
    "    voxel_masker = maskers.NiftiMasker(mask_img=voxel_mask, standardize=False, \n",
    "                                       detrend=False, t_r=t_r, smoothing_fwhm=8)\n",
    "    voxel_masker.fit()\n",
    "    vox_data_nii = voxel_masker.inverse_transform(voxel_data)\n",
    "    return vox_data_nii"
   ]
  },
  {
   "cell_type": "code",
   "execution_count": null,
   "id": "e7d58dc4-caf6-40ad-8d1d-9e7cdc77ca04",
   "metadata": {},
   "outputs": [],
   "source": [
    "def surface_fig(parcel_data, vmax, threshold=0, cmap='turbo', inflate=True, colorbar=True, no_background=True):     \n",
    "    nii_data = regions.signals_to_img_labels(parcel_data, MIST_path)\n",
    "    fig, ax = plotting.plot_img_on_surf(nii_data,\n",
    "                              views=['lateral', 'medial'], hemispheres=['left', 'right'], inflate=inflate,\n",
    "                              vmax=vmax, threshold=threshold, colorbar=colorbar, cmap=cmap, symmetric_cbar=False)\n",
    "    return fig"
   ]
  },
  {
   "cell_type": "code",
   "execution_count": null,
   "id": "1e6c622d-11e3-432a-9a12-bca176429f0d",
   "metadata": {},
   "outputs": [],
   "source": [
    "def voxel_map(voxel_data, vmax=None, cut_coords=None, tr = 1.49, bg_img=None, cmap = 'cold_hot') : \n",
    "    f = plt.Figure()\n",
    "    data_nii = voxels_nii(voxel_data, voxel_mask, t_r=tr)\n",
    "    if bg_img is not None : \n",
    "        plotting.plot_stat_map(data_nii, bg_img=bg_img, draw_cross=False, vmax=vmax,\n",
    "                           display_mode='x', cut_coords=[-63, -57, 57, 63], figure=f,\n",
    "                              black_bg=True, dim = 0, cmap=cmap)\n",
    "    else :\n",
    "        plotting.plot_stat_map(data_nii, draw_cross=False, vmax=vmax,\n",
    "                           display_mode='x', cut_coords=[-63, -57, 57, 63], figure=f)\n",
    "    return f"
   ]
  },
  {
   "cell_type": "code",
   "execution_count": null,
   "id": "93c62df3-174d-4369-9f29-ca3625856f55",
   "metadata": {},
   "outputs": [],
   "source": [
    "def extend_colormap(original_colormap = 'twilight', percent_start = 0.25, percent_finish = 0.25):\n",
    "    colormap = colormaps[original_colormap]\n",
    "    nb_colors = colormap.N\n",
    "    new_colors_range = colormap(numpy.linspace(0,1,nb_colors))\n",
    "\n",
    "    n_start = round(nb_colors/(1-percent_start)) - nb_colors if percent_start != 0 else 0\n",
    "    new_color_start = numpy.array([colormap(0)]*n_start).reshape(-1, new_colors_range.shape[1])\n",
    "    n_finish = round(nb_colors/(1-percent_finish)) - nb_colors if percent_finish != 0 else 0\n",
    "    new_color_finish = numpy.array([colormap(0)]*n_finish).reshape(-1, new_colors_range.shape[1])\n",
    "\n",
    "    new_colors_range = numpy.concatenate((new_color_start,new_colors_range,new_color_finish), axis=0)\n",
    "    new_colormap = colors.ListedColormap(new_colors_range)\n",
    "    return new_colormap"
   ]
  },
  {
   "cell_type": "code",
   "execution_count": null,
   "id": "3278b905-8c5f-4066-8977-d311db01ed72",
   "metadata": {},
   "outputs": [],
   "source": [
    "for dataset in ['friends', 'movie10']:\n",
    "    subdatasets = ['s04'] if dataset == 'friends' else ['bourne', 'figures', 'life', 'wolf']\n",
    "    for sub_ds in subdatasets:\n",
    "        dspath = os.path.join(dir_path, dataset, sub_ds)\n",
    "        for file in os.listdir(dspath):\n",
    "            sub = file[:6]\n",
    "            conv = 'conv4' if 'conv4' in file else 'baseline'\n",
    "            scale = 'WB' if 'MIST_ROI' in file else 'STG'\n",
    "            \n",
    "            filepath = os.path.join(dspath, file)\n",
    "            arr = numpy.load(filepath)\n",
    "            print(arr.shape)\n",
    "\n",
    "            parcel_data = numpy.mean(arr, axis=0).reshape(1, -1)\n",
    "            vmax = numpy.max(numpy.abs(parcel_data))\n",
    "            print(dataset, sub_ds, sub, scale, conv)\n",
    "            print(f'min :', numpy.min(parcel_data), f', max : ', numpy.max(parcel_data), f', absolute max : ', vmax)\n",
    "\n",
    "            #cmp = extend_colormap(original_colormap = 'turbo', percent_start=0.5, percent_finish=0) \n",
    "            if scale == 'WB' :\n",
    "                fig = surface_fig(parcel_data, vmax=None, threshold = 0.1)\n",
    "            else :\n",
    "                fig = voxel_map(parcel_data)\n",
    "        \n",
    "            output_file = os.path.join(dir_path, 'maps', '{}_{}_{}_{}_{}'.format(dataset, sub_ds, sub, scale, conv))\n",
    "            fig.savefig(output_file, dpi=100)"
   ]
  }
 ],
 "metadata": {
  "kernelspec": {
   "display_name": "Python 3 (ipykernel)",
   "language": "python",
   "name": "python3"
  },
  "language_info": {
   "codemirror_mode": {
    "name": "ipython",
    "version": 3
   },
   "file_extension": ".py",
   "mimetype": "text/x-python",
   "name": "python",
   "nbconvert_exporter": "python",
   "pygments_lexer": "ipython3",
   "version": "3.10.12"
  }
 },
 "nbformat": 4,
 "nbformat_minor": 5
}
