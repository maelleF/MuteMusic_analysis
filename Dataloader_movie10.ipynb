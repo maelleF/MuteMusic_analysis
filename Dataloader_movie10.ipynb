{
 "cells": [
  {
   "cell_type": "code",
   "execution_count": 1,
   "id": "c8970834-db50-4dd5-b796-3ffdd59774aa",
   "metadata": {},
   "outputs": [],
   "source": [
    "import os, pickle\n",
    "import numpy as np\n",
    "import pandas as pd\n",
    "import librosa"
   ]
  },
  {
   "cell_type": "code",
   "execution_count": 3,
   "id": "dde05afa-5758-46a9-8cdc-c133c2e53f9e",
   "metadata": {},
   "outputs": [],
   "source": [
    "#paths\n",
    "scale = 'MISTROI'\n",
    "sub = 'sub-04'\n",
    "dataset = 'movie10'\n",
    "tracks_path = f'/home/maellef/DataBase/stimuli/{dataset}/'\n",
    "data_path = f'/home/maellef/DataBase/{dataset}/Preprocessed_fMRI'"
   ]
  },
  {
   "cell_type": "code",
   "execution_count": 4,
   "id": "f6419791-2999-4ade-9af0-b51308690d40",
   "metadata": {},
   "outputs": [],
   "source": [
    "def find_label_value(name, label):\n",
    "    label += '-' if label[-1] != '-' else label\n",
    "    startval = name.find(label)+len(label)\n",
    "    endval = startval\n",
    "    for i in range(startval, len(name)):\n",
    "        if name[i] in ['_', '.']:\n",
    "            break\n",
    "        endval+=1\n",
    "    return name[startval:endval]"
   ]
  },
  {
   "cell_type": "code",
   "execution_count": 5,
   "id": "d75c94ef-6d90-4daf-93e2-7aa5fb1b7305",
   "metadata": {},
   "outputs": [
    {
     "ename": "FileNotFoundError",
     "evalue": "[Errno 2] No such file or directory: '/home/maellef/DataBase/movie10/Preprocessed_fMRI/MISTROI/sub-04'",
     "output_type": "error",
     "traceback": [
      "\u001b[0;31m---------------------------------------------------------------------------\u001b[0m",
      "\u001b[0;31mFileNotFoundError\u001b[0m                         Traceback (most recent call last)",
      "Cell \u001b[0;32mIn[5], line 12\u001b[0m\n\u001b[1;32m      8\u001b[0m sr\u001b[38;5;241m=\u001b[39m\u001b[38;5;241m22050\u001b[39m\n\u001b[1;32m     10\u001b[0m sub_path \u001b[38;5;241m=\u001b[39m os\u001b[38;5;241m.\u001b[39mpath\u001b[38;5;241m.\u001b[39mjoin(data_path, scale, sub)\n\u001b[0;32m---> 12\u001b[0m \u001b[38;5;28;01mfor\u001b[39;00m filename \u001b[38;5;129;01min\u001b[39;00m \u001b[43mos\u001b[49m\u001b[38;5;241;43m.\u001b[39;49m\u001b[43mlistdir\u001b[49m\u001b[43m(\u001b[49m\u001b[43msub_path\u001b[49m\u001b[43m)\u001b[49m:\n\u001b[1;32m     13\u001b[0m     \u001b[38;5;66;03m#load bold data\u001b[39;00m\n\u001b[1;32m     14\u001b[0m     runpath \u001b[38;5;241m=\u001b[39m os\u001b[38;5;241m.\u001b[39mpath\u001b[38;5;241m.\u001b[39mjoin(sub_path, filename)\n\u001b[1;32m     15\u001b[0m     \u001b[38;5;28;01mwith\u001b[39;00m np\u001b[38;5;241m.\u001b[39mload(runpath) \u001b[38;5;28;01mas\u001b[39;00m data:\n",
      "\u001b[0;31mFileNotFoundError\u001b[0m: [Errno 2] No such file or directory: '/home/maellef/DataBase/movie10/Preprocessed_fMRI/MISTROI/sub-04'"
     ]
    }
   ],
   "source": [
    "#structure to store all data pair (wav-fMRI)\n",
    "df = pd.DataFrame({\n",
    "})\n",
    "wavbold = []\n",
    "#general args\n",
    "tr = 1.49\n",
    "hrf_nb_tr = 0\n",
    "sr=22050\n",
    "\n",
    "sub_path = os.path.join(data_path, scale, sub)\n",
    "\n",
    "for filename in os.listdir(sub_path):\n",
    "    #load bold data\n",
    "    runpath = os.path.join(sub_path, filename)\n",
    "    with np.load(runpath) as data:\n",
    "        x = data['X']\n",
    "    data.close()\n",
    "    \n",
    "    #args necessary to extract infos from run\n",
    "    sub = sub\n",
    "    task = find_label_value(filename, 'task')\n",
    "    category = task[:-2]\n",
    "    #-----------specific to movie10\n",
    "    repetition = int(find_label_value(filename, 'run'))\n",
    "    repetition = repetition if repetition>=0 else np.NaN\n",
    "    print(category, task, repetition)\n",
    "    \n",
    "    #load silenced track\n",
    "    wav_name = f'{dataset}_{task}.wav'\n",
    "    wav_path = os.path.join(tracks_path, category, wav_name)\n",
    "    wav, sr = librosa.load(wav_path, sr=sr)\n",
    "    \n",
    "    #bold data for track (WITH HRF delay !!!!!)\n",
    "\n",
    "    #extract corresponding wav/bold\n",
    "    bold_segment = x\n",
    "    wav_segment = wav\n",
    "    segment_df = pd.Series({\n",
    "        'category':category,\n",
    "        'task':task,\n",
    "        'repetition':repetition\n",
    "    }).to_frame().T\n",
    "            \n",
    "    df = pd.concat([df, segment_df], axis='rows', ignore_index=True)  \n",
    "    wavbold.append((wav_segment, bold_segment))\n",
    "df.to_csv(f'{dataset}_{sub}_metadata.tsv', sep='\\t')\n",
    "with open(f'{dataset}_{sub}_pairWavBold', 'wb') as f: \n",
    "    pickle.dump(wavbold, f) "
   ]
  },
  {
   "cell_type": "code",
   "execution_count": null,
   "id": "88834415-0ce4-4c3c-94dd-bf0e6bbf73f7",
   "metadata": {},
   "outputs": [],
   "source": []
  }
 ],
 "metadata": {
  "kernelspec": {
   "display_name": "Python 3 (ipykernel)",
   "language": "python",
   "name": "python3"
  },
  "language_info": {
   "codemirror_mode": {
    "name": "ipython",
    "version": 3
   },
   "file_extension": ".py",
   "mimetype": "text/x-python",
   "name": "python",
   "nbconvert_exporter": "python",
   "pygments_lexer": "ipython3",
   "version": "3.10.12"
  }
 },
 "nbformat": 4,
 "nbformat_minor": 5
}
